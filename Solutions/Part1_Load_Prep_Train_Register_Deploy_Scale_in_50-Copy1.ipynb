{
 "cells": [
  {
   "cell_type": "markdown",
   "id": "ae5b37b0-9fd7-49e2-935e-29a6169a6e15",
   "metadata": {},
   "source": [
    "# Part 1. Load, Prep, Train, Register, Deploy and Scale in 50 Lines of Code\n",
    "\n",
    "In this lab you will learn how to:\n",
    "\n",
    "1. Create a session for Snowpark with Snowflake\n",
    "2. Create a DB, Warehouse and Model Registry\n",
    "3. Prep Data using the highly parallelisable vectorised UDTF functionality\n",
    "4. Build/train a regression model with Snowpark ML\n",
    "5. Register your model in the Model Registry\n",
    "6. Run the model\n",
    "\n",
    "All this in 50 lines of code (less the library imports)."
   ]
  },
  {
   "cell_type": "markdown",
   "id": "927d951e-23e8-4b74-93ff-e7e34938a4a0",
   "metadata": {},
   "source": [
    "## Prerequisites:\n",
    "In a terminal please run:\n",
    "\n",
    "conda env create -f conda_env.yml\n",
    " \n",
    "conda activate snowpark-ml-hol\n",
    "\n",
    "jupyter lab <---- this will load jupyter (you cna execute the notebook anywhere really, e.g. vscode, but jupyter is an easy option)"
   ]
  },
  {
   "cell_type": "markdown",
   "id": "937eea17-bd6d-4159-a5f0-f85835d02829",
   "metadata": {},
   "source": [
    "# 1.0 Imports\n",
    "TO DO: just run the following cell"
   ]
  },
  {
   "cell_type": "code",
   "execution_count": 1,
   "id": "2796f46e-5a61-47e6-84b0-a9bdeb4af2aa",
   "metadata": {},
   "outputs": [],
   "source": [
    "import json\n",
    "import pandas as pd\n",
    "from snowflake.snowpark.session import Session\n",
    "import snowflake.snowpark.functions as F\n",
    "from snowflake.snowpark.types import PandasDataFrameType, IntegerType, StringType, FloatType, DateType\n",
    "from snowflake.ml.modeling.xgboost import XGBRegressor\n",
    "from snowflake.ml.modeling.linear_model import LinearRegression\n",
    "from snowflake.ml.registry import registry\n",
    "from snowflake.ml._internal.utils import identifier"
   ]
  },
  {
   "cell_type": "markdown",
   "id": "2b3d4eff-d2fc-4faa-9657-d0c95223c2a1",
   "metadata": {},
   "source": [
    "# 1.1 Reading Snowflake Connection Details, create a Session"
   ]
  },
  {
   "cell_type": "code",
   "execution_count": 3,
   "id": "a24f6ccb-143c-40cd-b8ff-5b5b752231df",
   "metadata": {},
   "outputs": [],
   "source": [
    "snowflake_connection_cfg = json.loads(open(\"/Users/mitaylor/Documents/creds/creds.json\").read()) \n",
    "session = Session.builder.configs(snowflake_connection_cfg).create()"
   ]
  },
  {
   "cell_type": "markdown",
   "id": "536caf95-150b-40d4-b60c-4a55a8c6c07a",
   "metadata": {},
   "source": [
    "# 1.2 Specify Your Database and Create a Virtual Warehouse"
   ]
  },
  {
   "cell_type": "code",
   "execution_count": 4,
   "id": "97bedf16-8ff6-4541-8cff-b6defee453d8",
   "metadata": {},
   "outputs": [
    {
     "data": {
      "text/plain": [
       "[Row(status='Warehouse ASYNC_WH successfully created.')]"
      ]
     },
     "execution_count": 4,
     "metadata": {},
     "output_type": "execute_result"
    }
   ],
   "source": [
    "session.sql(\"CREATE OR REPLACE DATABASE MODEL_REGISTRY\").collect()\n",
    "session.sql(\"CREATE OR REPLACE SCHEMA PUBLIC\").collect()\n",
    "REGISTRY_DATABASE_NAME = \"MODEL_REGISTRY\"\n",
    "REGISTRY_SCHEMA_NAME = \"PUBLIC\"\n",
    "native_registry = registry.Registry(session=session, database_name=REGISTRY_DATABASE_NAME, schema_name=REGISTRY_SCHEMA_NAME)\n",
    "session.sql(\"CREATE OR REPLACE DATABASE HOL_DEMO\").collect()\n",
    "session.sql(\"CREATE OR REPLACE WAREHOUSE ASYNC_WH WITH WAREHOUSE_SIZE='MEDIUM' WAREHOUSE_TYPE = 'SNOWPARK-OPTIMIZED'\").collect()"
   ]
  },
  {
   "cell_type": "code",
   "execution_count": 5,
   "id": "856904bc-0843-4f97-b5cb-2ecb6210d2f9",
   "metadata": {},
   "outputs": [
    {
     "data": {
      "text/plain": [
       "<snowflake.snowpark.table.Table at 0x10f4dadd0>"
      ]
     },
     "execution_count": 5,
     "metadata": {},
     "output_type": "execute_result"
    }
   ],
   "source": [
    "# This data load is deliberately lo-fi, lots of other ways of importing data exist that have greater scale, but this compact approach is fine for this task\n",
    "session.write_pandas(pd.read_csv(\"test.csv\"), table_name='FS_DATASET', auto_create_table=True, overwrite=True)"
   ]
  },
  {
   "cell_type": "markdown",
   "id": "7eb3aa05-3625-43b3-b29c-9c8edcbe9a51",
   "metadata": {},
   "source": [
    "# 1.3 Get Your Data (Prepped)"
   ]
  },
  {
   "cell_type": "code",
   "execution_count": 6,
   "id": "0cddcf88-2d39-4441-8e6d-084c4417762c",
   "metadata": {},
   "outputs": [],
   "source": [
    "sdf = session.table(\"FS_DATASET\")\n",
    "sdf = sdf.select(F.to_date(F.col('DATE')).as_('DATE'), \"OPEN\", \"HIGH\", \"LOW\", \"CLOSE\", \"SYMBOL\")"
   ]
  },
  {
   "cell_type": "code",
   "execution_count": 7,
   "id": "56a4edbe-cef2-4cf1-a56a-e2b4218b8157",
   "metadata": {},
   "outputs": [],
   "source": [
    "class ML_Prep:\n",
    "    def end_partition(self, df):\n",
    "        df.columns = ['_DATE', \"_OPEN\", \"_HIGH\", \"_LOW\", \"_CLOSE\", \"_SYMBOL\"]\n",
    "        for i in range(1,6):\n",
    "            df[\"_CLOSE-\" + str(i)] = df[\"_CLOSE\"].shift(i).bfill()\n",
    "        yield df\n",
    "\n",
    "ML_Prep.end_partition._sf_vectorized_input = pd.DataFrame\n",
    "\n",
    "ml_prep_udtf = session.udtf.register(\n",
    "    ML_Prep, # the class\n",
    "    name=\"ml_prep_udtf\",\n",
    "    input_types=[PandasDataFrameType([DateType(), FloatType(), FloatType(), FloatType(), FloatType(), StringType()])], \n",
    "    output_schema=PandasDataFrameType([DateType(), FloatType(), FloatType(), FloatType(), FloatType(), StringType(),FloatType(),FloatType(),FloatType(),FloatType(),FloatType(),FloatType()],\n",
    "                                      ['DATE', \"OPEN\", \"HIGH\", \"LOW\", \"CLOSE\", \"SYMBOL\", \"CLOSE_M1\", \"CLOSE_M2\", \"CLOSE_M3\", \"CLOSE_M4\", \"CLOSE_M5\"]),\n",
    "    packages=[\"snowflake-snowpark-python\", 'pandas'])  \n"
   ]
  },
  {
   "cell_type": "code",
   "execution_count": 8,
   "id": "630b8ea6-0e46-4be2-874b-834daa07be29",
   "metadata": {},
   "outputs": [
    {
     "data": {
      "text/html": [
       "<div>\n",
       "<style scoped>\n",
       "    .dataframe tbody tr th:only-of-type {\n",
       "        vertical-align: middle;\n",
       "    }\n",
       "\n",
       "    .dataframe tbody tr th {\n",
       "        vertical-align: top;\n",
       "    }\n",
       "\n",
       "    .dataframe thead th {\n",
       "        text-align: right;\n",
       "    }\n",
       "</style>\n",
       "<table border=\"1\" class=\"dataframe\">\n",
       "  <thead>\n",
       "    <tr style=\"text-align: right;\">\n",
       "      <th></th>\n",
       "      <th>SYMBOL</th>\n",
       "    </tr>\n",
       "  </thead>\n",
       "  <tbody>\n",
       "    <tr>\n",
       "      <th>0</th>\n",
       "      <td>IBM</td>\n",
       "    </tr>\n",
       "    <tr>\n",
       "      <th>1</th>\n",
       "      <td>AMZN</td>\n",
       "    </tr>\n",
       "    <tr>\n",
       "      <th>2</th>\n",
       "      <td>FDS</td>\n",
       "    </tr>\n",
       "    <tr>\n",
       "      <th>3</th>\n",
       "      <td>META</td>\n",
       "    </tr>\n",
       "  </tbody>\n",
       "</table>\n",
       "</div>"
      ],
      "text/plain": [
       "  SYMBOL\n",
       "0    IBM\n",
       "1   AMZN\n",
       "2    FDS\n",
       "3   META"
      ]
     },
     "execution_count": 8,
     "metadata": {},
     "output_type": "execute_result"
    }
   ],
   "source": [
    "sdf_prepped = sdf.select(ml_prep_udtf(*[\"DATE\", \"OPEN\", \"HIGH\", \"LOW\", \"CLOSE\", \"SYMBOL\"]).over(partition_by=['SYMBOL']))\n",
    "sdf_prepped.limit(10).to_pandas()\n",
    "sdf_prepped.write.save_as_table(\"ML_PREPPED\", mode=\"overwrite\")\n",
    "sdf[['SYMBOL']].distinct().to_pandas()"
   ]
  },
  {
   "cell_type": "markdown",
   "id": "5156f278-a61c-4099-83ea-8e3795778e69",
   "metadata": {},
   "source": [
    "# 1.4.1 Choose Your Symbol, Train/Test Split and Model"
   ]
  },
  {
   "cell_type": "code",
   "execution_count": 19,
   "id": "69f836f8-8c4b-4756-96a9-531c8d5ce1bc",
   "metadata": {},
   "outputs": [],
   "source": [
    "sdf_prepped_filt = sdf_prepped.filter((F.col(\"SYMBOL\") == \"IBM\"))\n",
    "sdf_filt_train, sdf_filt_test = sdf_prepped_filt.filter((F.col(\"DATE\") <= '2021-01-01')), sdf_prepped_filt.filter((F.col(\"DATE\") > '2021-01-01')) \n",
    "regressor = LinearRegression"
   ]
  },
  {
   "cell_type": "markdown",
   "id": "5e6bd7a0-8c07-4a1e-bd99-79feb745e9d1",
   "metadata": {},
   "source": [
    "# 1.4.2 Train Your Model"
   ]
  },
  {
   "cell_type": "code",
   "execution_count": 20,
   "id": "603873ea-5bb6-4eee-8121-07780e5b2a01",
   "metadata": {},
   "outputs": [
    {
     "data": {
      "text/plain": [
       "<snowflake.ml.modeling.linear_model.linear_regression.LinearRegression at 0x182ba5a10>"
      ]
     },
     "execution_count": 20,
     "metadata": {},
     "output_type": "execute_result"
    }
   ],
   "source": [
    "regressor = regressor(input_cols=[\"CLOSE_M1\", \"CLOSE_M2\", \"CLOSE_M3\", \"CLOSE_M4\", \"CLOSE_M5\"], \n",
    "                         label_cols=[\"CLOSE\"],\n",
    "                         output_cols=[\"CLOSE_PREDICT\"]) \n",
    "regressor.fit(sdf_prepped_filt)"
   ]
  },
  {
   "cell_type": "markdown",
   "id": "1863df7a-2670-4a10-82a6-dc99a5e17e4c",
   "metadata": {},
   "source": [
    "# 1.5 Register Your Model"
   ]
  },
  {
   "cell_type": "code",
   "execution_count": 21,
   "id": "a7cae620-c9c5-4cbd-a1cd-be3af51ca230",
   "metadata": {},
   "outputs": [],
   "source": [
    "MODEL_NAME = \"LR_TEST_MODEL\"\n",
    "MODEL_VERSION = \"v2\"\n",
    "\n",
    "model = native_registry.log_model(\n",
    "    model_name=MODEL_NAME,\n",
    "    version_name=MODEL_VERSION,\n",
    "    model=regressor,\n",
    ")"
   ]
  },
  {
   "cell_type": "markdown",
   "id": "f18a0dd1-6bc6-4ef4-96e2-4e5da582b247",
   "metadata": {},
   "source": [
    "# 1.6 Run Your Model"
   ]
  },
  {
   "cell_type": "code",
   "execution_count": 27,
   "id": "194d0c6a-dc4d-4665-94f8-34d7275351dd",
   "metadata": {},
   "outputs": [
    {
     "data": {
      "text/html": [
       "<div>\n",
       "<style scoped>\n",
       "    .dataframe tbody tr th:only-of-type {\n",
       "        vertical-align: middle;\n",
       "    }\n",
       "\n",
       "    .dataframe tbody tr th {\n",
       "        vertical-align: top;\n",
       "    }\n",
       "\n",
       "    .dataframe thead th {\n",
       "        text-align: right;\n",
       "    }\n",
       "</style>\n",
       "<table border=\"1\" class=\"dataframe\">\n",
       "  <thead>\n",
       "    <tr style=\"text-align: right;\">\n",
       "      <th></th>\n",
       "      <th>DATE</th>\n",
       "      <th>OPEN</th>\n",
       "      <th>HIGH</th>\n",
       "      <th>LOW</th>\n",
       "      <th>CLOSE</th>\n",
       "      <th>SYMBOL</th>\n",
       "      <th>CLOSE_M1</th>\n",
       "      <th>CLOSE_M2</th>\n",
       "      <th>CLOSE_M3</th>\n",
       "      <th>CLOSE_M4</th>\n",
       "      <th>CLOSE_M5</th>\n",
       "      <th>CLOSE_PREDICT</th>\n",
       "    </tr>\n",
       "  </thead>\n",
       "  <tbody>\n",
       "    <tr>\n",
       "      <th>0</th>\n",
       "      <td>2021-01-04</td>\n",
       "      <td>133.520004</td>\n",
       "      <td>133.610001</td>\n",
       "      <td>126.760002</td>\n",
       "      <td>129.410004</td>\n",
       "      <td>IBM</td>\n",
       "      <td>132.690002</td>\n",
       "      <td>133.720001</td>\n",
       "      <td>134.869995</td>\n",
       "      <td>136.690002</td>\n",
       "      <td>131.970001</td>\n",
       "      <td>133.065836</td>\n",
       "    </tr>\n",
       "    <tr>\n",
       "      <th>1</th>\n",
       "      <td>2021-01-05</td>\n",
       "      <td>128.889999</td>\n",
       "      <td>131.740005</td>\n",
       "      <td>128.429993</td>\n",
       "      <td>131.009995</td>\n",
       "      <td>IBM</td>\n",
       "      <td>129.410004</td>\n",
       "      <td>132.690002</td>\n",
       "      <td>133.720001</td>\n",
       "      <td>134.869995</td>\n",
       "      <td>136.690002</td>\n",
       "      <td>130.259945</td>\n",
       "    </tr>\n",
       "    <tr>\n",
       "      <th>2</th>\n",
       "      <td>2021-01-06</td>\n",
       "      <td>127.720001</td>\n",
       "      <td>131.050003</td>\n",
       "      <td>126.379997</td>\n",
       "      <td>126.599998</td>\n",
       "      <td>IBM</td>\n",
       "      <td>131.009995</td>\n",
       "      <td>129.410004</td>\n",
       "      <td>132.690002</td>\n",
       "      <td>133.720001</td>\n",
       "      <td>134.869995</td>\n",
       "      <td>131.121310</td>\n",
       "    </tr>\n",
       "    <tr>\n",
       "      <th>3</th>\n",
       "      <td>2021-01-07</td>\n",
       "      <td>128.360001</td>\n",
       "      <td>131.630005</td>\n",
       "      <td>127.860001</td>\n",
       "      <td>130.919998</td>\n",
       "      <td>IBM</td>\n",
       "      <td>126.599998</td>\n",
       "      <td>131.009995</td>\n",
       "      <td>129.410004</td>\n",
       "      <td>132.690002</td>\n",
       "      <td>133.720001</td>\n",
       "      <td>127.630447</td>\n",
       "    </tr>\n",
       "    <tr>\n",
       "      <th>4</th>\n",
       "      <td>2021-01-08</td>\n",
       "      <td>132.429993</td>\n",
       "      <td>132.630005</td>\n",
       "      <td>130.229996</td>\n",
       "      <td>132.050003</td>\n",
       "      <td>IBM</td>\n",
       "      <td>130.919998</td>\n",
       "      <td>126.599998</td>\n",
       "      <td>131.009995</td>\n",
       "      <td>129.410004</td>\n",
       "      <td>132.690002</td>\n",
       "      <td>130.722491</td>\n",
       "    </tr>\n",
       "  </tbody>\n",
       "</table>\n",
       "</div>"
      ],
      "text/plain": [
       "         DATE        OPEN        HIGH         LOW       CLOSE SYMBOL  \\\n",
       "0  2021-01-04  133.520004  133.610001  126.760002  129.410004    IBM   \n",
       "1  2021-01-05  128.889999  131.740005  128.429993  131.009995    IBM   \n",
       "2  2021-01-06  127.720001  131.050003  126.379997  126.599998    IBM   \n",
       "3  2021-01-07  128.360001  131.630005  127.860001  130.919998    IBM   \n",
       "4  2021-01-08  132.429993  132.630005  130.229996  132.050003    IBM   \n",
       "\n",
       "     CLOSE_M1    CLOSE_M2    CLOSE_M3    CLOSE_M4    CLOSE_M5  CLOSE_PREDICT  \n",
       "0  132.690002  133.720001  134.869995  136.690002  131.970001     133.065836  \n",
       "1  129.410004  132.690002  133.720001  134.869995  136.690002     130.259945  \n",
       "2  131.009995  129.410004  132.690002  133.720001  134.869995     131.121310  \n",
       "3  126.599998  131.009995  129.410004  132.690002  133.720001     127.630447  \n",
       "4  130.919998  126.599998  131.009995  129.410004  132.690002     130.722491  "
      ]
     },
     "execution_count": 27,
     "metadata": {},
     "output_type": "execute_result"
    }
   ],
   "source": [
    "model.run(sdf_filt_test, function_name=\"predict\").limit(5).to_pandas()"
   ]
  },
  {
   "cell_type": "markdown",
   "id": "5c115265-fc9c-40a5-bc2b-b4995269befc",
   "metadata": {},
   "source": [
    "# 1.7 Or Pull Your Model From The Registry"
   ]
  },
  {
   "cell_type": "code",
   "execution_count": 26,
   "id": "de49d682-5551-494c-9ea7-c59caac54f0c",
   "metadata": {},
   "outputs": [
    {
     "data": {
      "text/html": [
       "<div>\n",
       "<style scoped>\n",
       "    .dataframe tbody tr th:only-of-type {\n",
       "        vertical-align: middle;\n",
       "    }\n",
       "\n",
       "    .dataframe tbody tr th {\n",
       "        vertical-align: top;\n",
       "    }\n",
       "\n",
       "    .dataframe thead th {\n",
       "        text-align: right;\n",
       "    }\n",
       "</style>\n",
       "<table border=\"1\" class=\"dataframe\">\n",
       "  <thead>\n",
       "    <tr style=\"text-align: right;\">\n",
       "      <th></th>\n",
       "      <th>DATE</th>\n",
       "      <th>OPEN</th>\n",
       "      <th>HIGH</th>\n",
       "      <th>LOW</th>\n",
       "      <th>CLOSE</th>\n",
       "      <th>SYMBOL</th>\n",
       "      <th>CLOSE_M1</th>\n",
       "      <th>CLOSE_M2</th>\n",
       "      <th>CLOSE_M3</th>\n",
       "      <th>CLOSE_M4</th>\n",
       "      <th>CLOSE_M5</th>\n",
       "      <th>CLOSE_PREDICT</th>\n",
       "    </tr>\n",
       "  </thead>\n",
       "  <tbody>\n",
       "    <tr>\n",
       "      <th>0</th>\n",
       "      <td>2021-01-04</td>\n",
       "      <td>133.520004</td>\n",
       "      <td>133.610001</td>\n",
       "      <td>126.760002</td>\n",
       "      <td>129.410004</td>\n",
       "      <td>IBM</td>\n",
       "      <td>132.690002</td>\n",
       "      <td>133.720001</td>\n",
       "      <td>134.869995</td>\n",
       "      <td>136.690002</td>\n",
       "      <td>131.970001</td>\n",
       "      <td>133.065836</td>\n",
       "    </tr>\n",
       "    <tr>\n",
       "      <th>1</th>\n",
       "      <td>2021-01-05</td>\n",
       "      <td>128.889999</td>\n",
       "      <td>131.740005</td>\n",
       "      <td>128.429993</td>\n",
       "      <td>131.009995</td>\n",
       "      <td>IBM</td>\n",
       "      <td>129.410004</td>\n",
       "      <td>132.690002</td>\n",
       "      <td>133.720001</td>\n",
       "      <td>134.869995</td>\n",
       "      <td>136.690002</td>\n",
       "      <td>130.259945</td>\n",
       "    </tr>\n",
       "    <tr>\n",
       "      <th>2</th>\n",
       "      <td>2021-01-06</td>\n",
       "      <td>127.720001</td>\n",
       "      <td>131.050003</td>\n",
       "      <td>126.379997</td>\n",
       "      <td>126.599998</td>\n",
       "      <td>IBM</td>\n",
       "      <td>131.009995</td>\n",
       "      <td>129.410004</td>\n",
       "      <td>132.690002</td>\n",
       "      <td>133.720001</td>\n",
       "      <td>134.869995</td>\n",
       "      <td>131.121310</td>\n",
       "    </tr>\n",
       "    <tr>\n",
       "      <th>3</th>\n",
       "      <td>2021-01-07</td>\n",
       "      <td>128.360001</td>\n",
       "      <td>131.630005</td>\n",
       "      <td>127.860001</td>\n",
       "      <td>130.919998</td>\n",
       "      <td>IBM</td>\n",
       "      <td>126.599998</td>\n",
       "      <td>131.009995</td>\n",
       "      <td>129.410004</td>\n",
       "      <td>132.690002</td>\n",
       "      <td>133.720001</td>\n",
       "      <td>127.630447</td>\n",
       "    </tr>\n",
       "    <tr>\n",
       "      <th>4</th>\n",
       "      <td>2021-01-08</td>\n",
       "      <td>132.429993</td>\n",
       "      <td>132.630005</td>\n",
       "      <td>130.229996</td>\n",
       "      <td>132.050003</td>\n",
       "      <td>IBM</td>\n",
       "      <td>130.919998</td>\n",
       "      <td>126.599998</td>\n",
       "      <td>131.009995</td>\n",
       "      <td>129.410004</td>\n",
       "      <td>132.690002</td>\n",
       "      <td>130.722491</td>\n",
       "    </tr>\n",
       "  </tbody>\n",
       "</table>\n",
       "</div>"
      ],
      "text/plain": [
       "         DATE        OPEN        HIGH         LOW       CLOSE SYMBOL  \\\n",
       "0  2021-01-04  133.520004  133.610001  126.760002  129.410004    IBM   \n",
       "1  2021-01-05  128.889999  131.740005  128.429993  131.009995    IBM   \n",
       "2  2021-01-06  127.720001  131.050003  126.379997  126.599998    IBM   \n",
       "3  2021-01-07  128.360001  131.630005  127.860001  130.919998    IBM   \n",
       "4  2021-01-08  132.429993  132.630005  130.229996  132.050003    IBM   \n",
       "\n",
       "     CLOSE_M1    CLOSE_M2    CLOSE_M3    CLOSE_M4    CLOSE_M5  CLOSE_PREDICT  \n",
       "0  132.690002  133.720001  134.869995  136.690002  131.970001     133.065836  \n",
       "1  129.410004  132.690002  133.720001  134.869995  136.690002     130.259945  \n",
       "2  131.009995  129.410004  132.690002  133.720001  134.869995     131.121310  \n",
       "3  126.599998  131.009995  129.410004  132.690002  133.720001     127.630447  \n",
       "4  130.919998  126.599998  131.009995  129.410004  132.690002     130.722491  "
      ]
     },
     "execution_count": 26,
     "metadata": {},
     "output_type": "execute_result"
    }
   ],
   "source": [
    "model_ = native_registry.get_model(MODEL_NAME).version(MODEL_VERSION)\n",
    "model_.run(sdf_filt_test, function_name=\"predict\").limit(5).to_pandas()"
   ]
  }
 ],
 "metadata": {
  "kernelspec": {
   "display_name": "Python 3 (ipykernel)",
   "language": "python",
   "name": "python3"
  },
  "language_info": {
   "codemirror_mode": {
    "name": "ipython",
    "version": 3
   },
   "file_extension": ".py",
   "mimetype": "text/x-python",
   "name": "python",
   "nbconvert_exporter": "python",
   "pygments_lexer": "ipython3",
   "version": "3.9.19"
  }
 },
 "nbformat": 4,
 "nbformat_minor": 5
}
