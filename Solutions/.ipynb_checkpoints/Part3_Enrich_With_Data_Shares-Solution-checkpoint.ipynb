{
 "cells": [
  {
   "cell_type": "markdown",
   "id": "6f8a6f15-e225-4b56-a88f-34e9a8478c02",
   "metadata": {},
   "source": [
    "# Part 3. Enrich Models With Snowflake Data Marketplace and Use Native Snowpark Operations to Manipulate The Data\n",
    "\n",
    "1. Get Data From the Data Marketplace\n",
    "2. Create a session for Snowpark with Snowflake\n",
    "3. Import the Data\n",
    "4. Manipulate the Data\n",
    "5. Update Your Model\n"
   ]
  },
  {
   "cell_type": "markdown",
   "id": "3d7d23df-b67d-47b8-9745-ed956aaa06c4",
   "metadata": {},
   "source": [
    "# 3.0 Imports"
   ]
  },
  {
   "cell_type": "code",
   "execution_count": 1,
   "id": "8bcf030b-48f0-4720-a549-848b43111fa7",
   "metadata": {},
   "outputs": [],
   "source": [
    "import json\n",
    "import pandas as pd\n",
    "from snowflake.snowpark.session import Session\n",
    "import snowflake.snowpark.functions as F\n",
    "from snowflake.snowpark.types import PandasDataFrameType, IntegerType, StringType, FloatType, DateType\n",
    "from snowflake.ml.modeling.xgboost import XGBRegressor\n",
    "from snowflake.ml.modeling.linear_model import LinearRegression\n",
    "#from snowflake.ml.registry import model_registry\n",
    "from snowflake.ml.registry import registry\n",
    "from snowflake.ml._internal.utils import identifier"
   ]
  },
  {
   "cell_type": "markdown",
   "id": "ead122fb-a9af-4105-bbb8-c0e16ed4c29c",
   "metadata": {},
   "source": [
    "# 3.1 Get the Data Share\n",
    "\n",
    "Go to the hyperlink below, log in to you Snowflake account and click on the \"GET\" button.  This enables you to retrieve data from the Data Share\n"
   ]
  },
  {
   "cell_type": "markdown",
   "id": "93e15fba-8371-417e-a011-ccbc7b112ef9",
   "metadata": {},
   "source": [
    "https://app.snowflake.com/marketplace/listing/GZT1ZA3NLF/similarweb-ltd-global-stocks-25-000-tickers-digital-traffic-data-by-domain?search=Global%20Stocks"
   ]
  },
  {
   "cell_type": "markdown",
   "id": "f3b85097-c5dd-4d54-8b25-04eae0b18a1f",
   "metadata": {},
   "source": [
    "# 3.2 Reading Snowflake Connection Details, create a Session\n"
   ]
  },
  {
   "cell_type": "code",
   "execution_count": 2,
   "id": "fb970c10-ecdf-423a-a0e6-430fa072bb1c",
   "metadata": {},
   "outputs": [
    {
     "data": {
      "text/plain": [
       "[Row(status='Warehouse ASYNC_WH successfully created.')]"
      ]
     },
     "execution_count": 2,
     "metadata": {},
     "output_type": "execute_result"
    }
   ],
   "source": [
    "snowflake_connection_cfg = json.loads(open(\"/Users/mitaylor/Documents/creds/creds_sf_azure.json\").read()) # <--- Update here\n",
    "session = Session.builder.configs(snowflake_connection_cfg).create()\n",
    "session.sql(\"USE DATABASE HOL_DEMO\").collect()\n",
    "session.sql(\"CREATE OR REPLACE WAREHOUSE ASYNC_WH WITH WAREHOUSE_SIZE='MEDIUM' WAREHOUSE_TYPE = 'SNOWPARK-OPTIMIZED'\").collect()"
   ]
  },
  {
   "cell_type": "markdown",
   "id": "f1c60fe8-c8a8-46c4-abca-4dee9ab9b0c9",
   "metadata": {},
   "source": [
    "# 3.3 Use SQL to import the data"
   ]
  },
  {
   "cell_type": "code",
   "execution_count": 3,
   "id": "f4bae2e1-817c-4059-a388-a64665c1e327",
   "metadata": {},
   "outputs": [
    {
     "data": {
      "text/html": [
       "<div>\n",
       "<style scoped>\n",
       "    .dataframe tbody tr th:only-of-type {\n",
       "        vertical-align: middle;\n",
       "    }\n",
       "\n",
       "    .dataframe tbody tr th {\n",
       "        vertical-align: top;\n",
       "    }\n",
       "\n",
       "    .dataframe thead th {\n",
       "        text-align: right;\n",
       "    }\n",
       "</style>\n",
       "<table border=\"1\" class=\"dataframe\">\n",
       "  <thead>\n",
       "    <tr style=\"text-align: right;\">\n",
       "      <th></th>\n",
       "      <th>DATE</th>\n",
       "      <th>VARIABLE_NAME</th>\n",
       "      <th>VALUE</th>\n",
       "    </tr>\n",
       "  </thead>\n",
       "  <tbody>\n",
       "    <tr>\n",
       "      <th>0</th>\n",
       "      <td>2024-01-26</td>\n",
       "      <td>Bank of Japan Policy-Rate Balance Rate</td>\n",
       "      <td>-0.0010</td>\n",
       "    </tr>\n",
       "    <tr>\n",
       "      <th>1</th>\n",
       "      <td>2024-01-25</td>\n",
       "      <td>Bank of Japan Policy-Rate Balance Rate</td>\n",
       "      <td>-0.0010</td>\n",
       "    </tr>\n",
       "    <tr>\n",
       "      <th>2</th>\n",
       "      <td>2024-01-24</td>\n",
       "      <td>Bank of Japan Policy-Rate Balance Rate</td>\n",
       "      <td>-0.0010</td>\n",
       "    </tr>\n",
       "    <tr>\n",
       "      <th>3</th>\n",
       "      <td>2024-01-30</td>\n",
       "      <td>Bank of England Official Bank Rate</td>\n",
       "      <td>0.0525</td>\n",
       "    </tr>\n",
       "    <tr>\n",
       "      <th>4</th>\n",
       "      <td>2024-01-31</td>\n",
       "      <td>Bank of Brazil Selic Interest Rate Target</td>\n",
       "      <td>0.1175</td>\n",
       "    </tr>\n",
       "  </tbody>\n",
       "</table>\n",
       "</div>"
      ],
      "text/plain": [
       "         DATE                              VARIABLE_NAME   VALUE\n",
       "0  2024-01-26     Bank of Japan Policy-Rate Balance Rate -0.0010\n",
       "1  2024-01-25     Bank of Japan Policy-Rate Balance Rate -0.0010\n",
       "2  2024-01-24     Bank of Japan Policy-Rate Balance Rate -0.0010\n",
       "3  2024-01-30         Bank of England Official Bank Rate  0.0525\n",
       "4  2024-01-31  Bank of Brazil Selic Interest Rate Target  0.1175"
      ]
     },
     "execution_count": 3,
     "metadata": {},
     "output_type": "execute_result"
    }
   ],
   "source": [
    "sdf = session.sql(\"\"\"\n",
    "SELECT ts.date,\n",
    "       ts.variable_name,\n",
    "       ts.value\n",
    "FROM FINANCIAL__ECONOMIC_ESSENTIALS.cybersyn.financial_fred_timeseries AS ts\n",
    "JOIN FINANCIAL__ECONOMIC_ESSENTIALS.cybersyn.financial_fred_attributes AS att\n",
    "    ON (att.variable = ts.variable)\n",
    "WHERE variable_group IN ('Bank of Brazil Selic Interest Rate Target',\n",
    "                         'Bank of Canada Overnight Lending Rate',\n",
    "                         'Bank of England Official Bank Rate',\n",
    "                         'Bank of Japan Policy-Rate Balance Rate',\n",
    "                         'Bank of Mexico Official Overnight Target Rate',\n",
    "                         'ECB Main Refinancing Operations Rate: Fixed Rate Tenders for Euro Area',\n",
    "                         'Federal Funds Effective Rate')\"\"\")\n",
    "sdf.limit(5).to_pandas()"
   ]
  },
  {
   "cell_type": "code",
   "execution_count": 4,
   "id": "2b1b9025-b87e-4ba3-b371-98f0338b6e00",
   "metadata": {},
   "outputs": [],
   "source": [
    "sdf.write.save_as_table(\"STREAMLIT_TEST\", mode=\"overwrite\")"
   ]
  },
  {
   "cell_type": "markdown",
   "id": "fe9cc28d-fce3-4ec2-8f85-07301dfe812d",
   "metadata": {},
   "source": [
    "# 3.4 Use Native Snowpark to Manipulate the Data\n",
    "## 3.4.1 Filtering"
   ]
  },
  {
   "cell_type": "code",
   "execution_count": 5,
   "id": "b52cbf10-134d-4013-bf4a-91d6b8bb0143",
   "metadata": {},
   "outputs": [
    {
     "name": "stdout",
     "output_type": "stream",
     "text": [
      "------------------------\n",
      "|\"DATE\"      |\"VALUE\"  |\n",
      "------------------------\n",
      "|2024-01-30  |0.05     |\n",
      "|2024-01-31  |0.045    |\n",
      "|2024-01-29  |0.0533   |\n",
      "|2024-01-29  |-0.001   |\n",
      "|2024-01-28  |0.0533   |\n",
      "|2024-01-26  |-0.001   |\n",
      "|2024-01-25  |-0.001   |\n",
      "|2024-01-24  |-0.001   |\n",
      "|2024-01-30  |0.0525   |\n",
      "|2024-01-31  |0.1175   |\n",
      "------------------------\n",
      "\n"
     ]
    }
   ],
   "source": [
    "sdf_trimmed = sdf[[\"DATE\", \"VALUE\"]]\n",
    "sdf_trimmed.show()"
   ]
  },
  {
   "cell_type": "markdown",
   "id": "948bc8b2-e07b-4721-8eb8-664672fb39cb",
   "metadata": {},
   "source": [
    "## 3.4.2 GroupBy"
   ]
  },
  {
   "cell_type": "code",
   "execution_count": 6,
   "id": "2b41310a-7110-4b21-9515-581af4b5249e",
   "metadata": {},
   "outputs": [],
   "source": [
    "from snowflake.snowpark.functions import mean as mean_"
   ]
  },
  {
   "cell_type": "code",
   "execution_count": 7,
   "id": "c27ecb5b-8f31-4555-be6b-3a890239ca2e",
   "metadata": {},
   "outputs": [
    {
     "data": {
      "text/html": [
       "<div>\n",
       "<style scoped>\n",
       "    .dataframe tbody tr th:only-of-type {\n",
       "        vertical-align: middle;\n",
       "    }\n",
       "\n",
       "    .dataframe tbody tr th {\n",
       "        vertical-align: top;\n",
       "    }\n",
       "\n",
       "    .dataframe thead th {\n",
       "        text-align: right;\n",
       "    }\n",
       "</style>\n",
       "<table border=\"1\" class=\"dataframe\">\n",
       "  <thead>\n",
       "    <tr style=\"text-align: right;\">\n",
       "      <th></th>\n",
       "      <th>DATE</th>\n",
       "      <th>AVG(VALUE)</th>\n",
       "    </tr>\n",
       "  </thead>\n",
       "  <tbody>\n",
       "    <tr>\n",
       "      <th>0</th>\n",
       "      <td>2024-01-18</td>\n",
       "      <td>0.061400</td>\n",
       "    </tr>\n",
       "    <tr>\n",
       "      <th>1</th>\n",
       "      <td>2024-01-28</td>\n",
       "      <td>0.082075</td>\n",
       "    </tr>\n",
       "    <tr>\n",
       "      <th>2</th>\n",
       "      <td>1990-02-16</td>\n",
       "      <td>0.091050</td>\n",
       "    </tr>\n",
       "    <tr>\n",
       "      <th>3</th>\n",
       "      <td>1992-11-25</td>\n",
       "      <td>0.049083</td>\n",
       "    </tr>\n",
       "    <tr>\n",
       "      <th>4</th>\n",
       "      <td>1978-11-20</td>\n",
       "      <td>0.085667</td>\n",
       "    </tr>\n",
       "  </tbody>\n",
       "</table>\n",
       "</div>"
      ],
      "text/plain": [
       "         DATE  AVG(VALUE)\n",
       "0  2024-01-18    0.061400\n",
       "1  2024-01-28    0.082075\n",
       "2  1990-02-16    0.091050\n",
       "3  1992-11-25    0.049083\n",
       "4  1978-11-20    0.085667"
      ]
     },
     "execution_count": 7,
     "metadata": {},
     "output_type": "execute_result"
    }
   ],
   "source": [
    "sdf_grouped = sdf_trimmed.group_by(\"DATE\").agg(mean_(\"VALUE\"))\n",
    "sdf_grouped.limit(5).to_pandas()"
   ]
  },
  {
   "cell_type": "code",
   "execution_count": 8,
   "id": "e70b462c-9fb4-403f-ab4d-bf86bd4214db",
   "metadata": {},
   "outputs": [],
   "source": [
    "sdf_grouped = sdf_grouped.filter((F.col(\"DATE\") >= '2022-01-01'))"
   ]
  },
  {
   "cell_type": "markdown",
   "id": "44cd0c06-ea45-4517-bfcd-91fa58951b66",
   "metadata": {},
   "source": [
    "## 3.4.3 Join it with our Prior Data"
   ]
  },
  {
   "cell_type": "code",
   "execution_count": 9,
   "id": "a5206f82-709a-49bb-b0c1-0ef3217de723",
   "metadata": {},
   "outputs": [],
   "source": [
    "sdf_ml = session.table(\"ML_PREDICT\")\n",
    "sdf_ml = sdf_ml.filter((F.col(\"SYMBOL\") == 'IBM'))\n",
    "sdf_joined = sdf_ml.join(sdf_grouped, sdf_ml.DATE == sdf_grouped.DATE, rsuffix=\"_right\", how=\"left\")\n",
    "sdf_joined = sdf_joined.rename(F.col(\"AVG(VALUE)\"), \"NEW_FEATURE\")\n",
    "sdf_joined = sdf_joined.drop(\"DATE_RIGHT\")"
   ]
  },
  {
   "cell_type": "code",
   "execution_count": 10,
   "id": "3ed33fed-b178-43af-90e9-9f3445c6ebd8",
   "metadata": {},
   "outputs": [
    {
     "name": "stdout",
     "output_type": "stream",
     "text": [
      "------------------------------------------------------------------------------------------------------------------------------------------------------------------------------------------------------------------------------------------------------------------\n",
      "|\"DATE\"      |\"OPEN\"              |\"HIGH\"              |\"LOW\"               |\"CLOSE\"             |\"SYMBOL\"  |\"CLOSE_M1\"          |\"CLOSE_M2\"          |\"CLOSE_M3\"          |\"CLOSE_M4\"          |\"CLOSE_M5\"          |\"CLOSE_PREDICT\"     |\"NEW_FEATURE\"         |\n",
      "------------------------------------------------------------------------------------------------------------------------------------------------------------------------------------------------------------------------------------------------------------------\n",
      "|2022-09-28  |147.63999938964844  |150.63999938964844  |144.83999633789062  |149.83999633789062  |IBM       |151.75999450683594  |150.77000427246094  |150.42999267578125  |152.74000549316406  |153.72000122070312  |149.8188503593884   |0.04568571428571428   |\n",
      "|2022-08-15  |171.52000427246094  |173.38999938964844  |171.35000610351562  |173.19000244140625  |IBM       |172.10000610351562  |168.49000549316406  |169.24000549316406  |164.9199981689453   |164.8699951171875   |168.92275525084224  |0.04175714285714286   |\n",
      "|2022-12-29  |127.98999786376952  |130.47999572753906  |127.7300033569336   |129.61000061035156  |IBM       |126.04000091552734  |130.02999877929688  |131.86000061035156  |132.22999572753906  |135.4499969482422   |126.09233258874455  |0.05532857142857143   |\n",
      "|2022-11-14  |148.97000122070312  |150.27999877929688  |147.42999267578125  |148.27999877929688  |IBM       |149.6999969482422   |146.8699951171875   |134.8699951171875   |139.5               |138.9199981689453   |147.43687053134136  |0.05175714285714287   |\n",
      "|2022-03-31  |177.83999633789062  |178.02999877929688  |174.39999389648438  |174.61000061035156  |IBM       |177.77000427246094  |178.9600067138672   |175.60000610351562  |174.72000122070312  |174.07000732421875  |175.04025965089053  |0.0249125             |\n",
      "|2022-02-15  |170.97000122070312  |172.9499969482422   |170.25              |172.7899932861328   |IBM       |168.8800048828125   |168.63999938964844  |172.1199951171875   |176.27999877929688  |174.8300018310547   |166.33286094120243  |0.024971428571428568  |\n",
      "|2022-07-05  |137.77000427246094  |141.61000061035156  |136.92999267578125  |141.55999755859375  |IBM       |138.92999267578125  |136.72000122070312  |139.22999572753906  |137.44000244140625  |141.66000366210938  |137.4030415415169   |0.03604285714285715   |\n",
      "|2022-05-18  |146.85000610351562  |147.36000061035156  |139.89999389648438  |140.82000732421875  |IBM       |149.24000549316406  |145.5399932861328   |147.11000061035156  |142.55999755859375  |146.5               |147.03351956316249  |0.03211428571428572   |\n",
      "|2023-10-04  |171.08999633789062  |174.2100067138672   |170.97000122070312  |173.66000366210938  |IBM       |172.39999389648438  |173.75              |171.2100067138672   |170.69000244140625  |170.42999267578125  |169.93750142655455  |0.06282857142857143   |\n",
      "|2023-08-21  |175.07000732421875  |176.1300048828125   |173.74000549316406  |175.83999633789062  |IBM       |174.49000549316406  |174.0               |176.57000732421875  |177.4499969482422   |179.4600067138672   |171.62311198093886  |0.06318571428571428   |\n",
      "------------------------------------------------------------------------------------------------------------------------------------------------------------------------------------------------------------------------------------------------------------------\n",
      "\n"
     ]
    }
   ],
   "source": [
    "sdf_joined.show()"
   ]
  },
  {
   "cell_type": "markdown",
   "id": "e62ba868-53fc-4b5c-805c-148682e6fa56",
   "metadata": {},
   "source": [
    "# 3.5 Train and Test the Model"
   ]
  },
  {
   "cell_type": "code",
   "execution_count": 11,
   "id": "05d92d51-591a-4e4a-8521-e742018af098",
   "metadata": {},
   "outputs": [
    {
     "name": "stderr",
     "output_type": "stream",
     "text": [
      "Input value type doesn't match the target column data type, this replacement was skipped. Column Name: \"DATE\", Type: DateType(), Input Value: 0.05, Type: <class 'float'>\n",
      "Input value type doesn't match the target column data type, this replacement was skipped. Column Name: \"SYMBOL\", Type: StringType(16777216), Input Value: 0.05, Type: <class 'float'>\n"
     ]
    }
   ],
   "source": [
    "sdf_joined = sdf_joined.na.fill(0.05)\n",
    "sdf_joined_train, sdf_joined_test = sdf_joined.filter((F.col(\"DATE\") <= '2023-01-01')), sdf_joined.filter((F.col(\"DATE\") > '2023-01-01')) "
   ]
  },
  {
   "cell_type": "code",
   "execution_count": 14,
   "id": "00b03f0d-a038-4c5e-a1df-0763788fc501",
   "metadata": {},
   "outputs": [],
   "source": [
    "REGISTRY_DATABASE_NAME = \"MODEL_REGISTRY\"\n",
    "REGISTRY_SCHEMA_NAME = \"PUBLIC\"\n",
    "native_registry = registry.Registry(session=session, database_name=REGISTRY_DATABASE_NAME, schema_name=REGISTRY_SCHEMA_NAME)\n",
    "\n",
    "#train\n",
    "regressor = LinearRegression\n",
    "regressor = regressor(input_cols=[\"CLOSE_M1\", \"CLOSE_M2\", \"CLOSE_M3\", \"CLOSE_M4\", \"CLOSE_M5\"],\n",
    "                         label_cols=[\"CLOSE\"],\n",
    "                         output_cols=[\"CLOSE_PREDICT\"])\n",
    "regressor.fit(sdf_joined_train)\n",
    "\n",
    "MODEL_NAME = \"REGRESSION_IBM_CB_FEAT\"\n",
    "MODEL_VERSION = \"v01\"\n",
    "model = native_registry.log_model(\n",
    "    model_name=MODEL_NAME,\n",
    "    version_name=MODEL_VERSION,\n",
    "    model=regressor,\n",
    ")"
   ]
  },
  {
   "cell_type": "code",
   "execution_count": 15,
   "id": "c31dec85-3b9b-49c3-b0d3-e350bdf24fc9",
   "metadata": {},
   "outputs": [
    {
     "data": {
      "text/html": [
       "<div>\n",
       "<style scoped>\n",
       "    .dataframe tbody tr th:only-of-type {\n",
       "        vertical-align: middle;\n",
       "    }\n",
       "\n",
       "    .dataframe tbody tr th {\n",
       "        vertical-align: top;\n",
       "    }\n",
       "\n",
       "    .dataframe thead th {\n",
       "        text-align: right;\n",
       "    }\n",
       "</style>\n",
       "<table border=\"1\" class=\"dataframe\">\n",
       "  <thead>\n",
       "    <tr style=\"text-align: right;\">\n",
       "      <th></th>\n",
       "      <th>DATE</th>\n",
       "      <th>OPEN</th>\n",
       "      <th>HIGH</th>\n",
       "      <th>LOW</th>\n",
       "      <th>CLOSE</th>\n",
       "      <th>SYMBOL</th>\n",
       "      <th>NEW_FEATURE</th>\n",
       "      <th>CLOSE_M1</th>\n",
       "      <th>CLOSE_M2</th>\n",
       "      <th>CLOSE_M3</th>\n",
       "      <th>CLOSE_M4</th>\n",
       "      <th>CLOSE_M5</th>\n",
       "      <th>CLOSE_PREDICT</th>\n",
       "    </tr>\n",
       "  </thead>\n",
       "  <tbody>\n",
       "    <tr>\n",
       "      <th>0</th>\n",
       "      <td>2023-09-13</td>\n",
       "      <td>176.509995</td>\n",
       "      <td>177.300003</td>\n",
       "      <td>173.979996</td>\n",
       "      <td>174.210007</td>\n",
       "      <td>IBM</td>\n",
       "      <td>0.063186</td>\n",
       "      <td>176.300003</td>\n",
       "      <td>179.360001</td>\n",
       "      <td>178.179993</td>\n",
       "      <td>177.559998</td>\n",
       "      <td>182.910004</td>\n",
       "      <td>175.245604</td>\n",
       "    </tr>\n",
       "    <tr>\n",
       "      <th>1</th>\n",
       "      <td>2023-07-31</td>\n",
       "      <td>196.059998</td>\n",
       "      <td>196.490005</td>\n",
       "      <td>195.259995</td>\n",
       "      <td>196.449997</td>\n",
       "      <td>IBM</td>\n",
       "      <td>0.061688</td>\n",
       "      <td>195.830002</td>\n",
       "      <td>193.220001</td>\n",
       "      <td>194.500000</td>\n",
       "      <td>193.619995</td>\n",
       "      <td>192.750000</td>\n",
       "      <td>191.268965</td>\n",
       "    </tr>\n",
       "    <tr>\n",
       "      <th>2</th>\n",
       "      <td>2023-12-13</td>\n",
       "      <td>195.089996</td>\n",
       "      <td>198.000000</td>\n",
       "      <td>194.850006</td>\n",
       "      <td>197.960007</td>\n",
       "      <td>IBM</td>\n",
       "      <td>0.062114</td>\n",
       "      <td>194.710007</td>\n",
       "      <td>193.179993</td>\n",
       "      <td>195.710007</td>\n",
       "      <td>194.270004</td>\n",
       "      <td>192.320007</td>\n",
       "      <td>190.582152</td>\n",
       "    </tr>\n",
       "    <tr>\n",
       "      <th>3</th>\n",
       "      <td>2023-11-08</td>\n",
       "      <td>182.350006</td>\n",
       "      <td>183.449997</td>\n",
       "      <td>181.589996</td>\n",
       "      <td>182.889999</td>\n",
       "      <td>IBM</td>\n",
       "      <td>0.062114</td>\n",
       "      <td>181.820007</td>\n",
       "      <td>179.229996</td>\n",
       "      <td>176.649994</td>\n",
       "      <td>190.539993</td>\n",
       "      <td>173.970001</td>\n",
       "      <td>177.300366</td>\n",
       "    </tr>\n",
       "    <tr>\n",
       "      <th>4</th>\n",
       "      <td>2023-03-28</td>\n",
       "      <td>157.970001</td>\n",
       "      <td>158.490005</td>\n",
       "      <td>155.979996</td>\n",
       "      <td>157.649994</td>\n",
       "      <td>IBM</td>\n",
       "      <td>0.059614</td>\n",
       "      <td>158.279999</td>\n",
       "      <td>160.250000</td>\n",
       "      <td>158.929993</td>\n",
       "      <td>157.830002</td>\n",
       "      <td>147.919998</td>\n",
       "      <td>158.039372</td>\n",
       "    </tr>\n",
       "    <tr>\n",
       "      <th>5</th>\n",
       "      <td>2023-02-10</td>\n",
       "      <td>149.460007</td>\n",
       "      <td>151.339996</td>\n",
       "      <td>149.220001</td>\n",
       "      <td>151.009995</td>\n",
       "      <td>IBM</td>\n",
       "      <td>0.058186</td>\n",
       "      <td>150.869995</td>\n",
       "      <td>151.919998</td>\n",
       "      <td>154.649994</td>\n",
       "      <td>151.729996</td>\n",
       "      <td>165.559998</td>\n",
       "      <td>152.601760</td>\n",
       "    </tr>\n",
       "    <tr>\n",
       "      <th>6</th>\n",
       "      <td>2023-06-29</td>\n",
       "      <td>189.080002</td>\n",
       "      <td>190.070007</td>\n",
       "      <td>188.940002</td>\n",
       "      <td>189.589996</td>\n",
       "      <td>IBM</td>\n",
       "      <td>0.062457</td>\n",
       "      <td>189.250000</td>\n",
       "      <td>188.059998</td>\n",
       "      <td>185.270004</td>\n",
       "      <td>186.679993</td>\n",
       "      <td>187.000000</td>\n",
       "      <td>185.424723</td>\n",
       "    </tr>\n",
       "    <tr>\n",
       "      <th>7</th>\n",
       "      <td>2023-05-16</td>\n",
       "      <td>171.990005</td>\n",
       "      <td>173.139999</td>\n",
       "      <td>171.800003</td>\n",
       "      <td>172.070007</td>\n",
       "      <td>IBM</td>\n",
       "      <td>0.061043</td>\n",
       "      <td>172.070007</td>\n",
       "      <td>172.570007</td>\n",
       "      <td>173.750000</td>\n",
       "      <td>173.559998</td>\n",
       "      <td>171.770004</td>\n",
       "      <td>170.612695</td>\n",
       "    </tr>\n",
       "    <tr>\n",
       "      <th>8</th>\n",
       "      <td>2023-09-18</td>\n",
       "      <td>176.479996</td>\n",
       "      <td>179.380005</td>\n",
       "      <td>176.169998</td>\n",
       "      <td>177.970001</td>\n",
       "      <td>IBM</td>\n",
       "      <td>0.063186</td>\n",
       "      <td>175.009995</td>\n",
       "      <td>175.740005</td>\n",
       "      <td>174.210007</td>\n",
       "      <td>176.300003</td>\n",
       "      <td>179.360001</td>\n",
       "      <td>173.301594</td>\n",
       "    </tr>\n",
       "    <tr>\n",
       "      <th>9</th>\n",
       "      <td>2023-08-03</td>\n",
       "      <td>191.570007</td>\n",
       "      <td>192.369995</td>\n",
       "      <td>190.690002</td>\n",
       "      <td>191.169998</td>\n",
       "      <td>IBM</td>\n",
       "      <td>0.063186</td>\n",
       "      <td>192.580002</td>\n",
       "      <td>195.610001</td>\n",
       "      <td>196.449997</td>\n",
       "      <td>195.830002</td>\n",
       "      <td>193.220001</td>\n",
       "      <td>189.642130</td>\n",
       "    </tr>\n",
       "  </tbody>\n",
       "</table>\n",
       "</div>"
      ],
      "text/plain": [
       "         DATE        OPEN        HIGH         LOW       CLOSE SYMBOL  \\\n",
       "0  2023-09-13  176.509995  177.300003  173.979996  174.210007    IBM   \n",
       "1  2023-07-31  196.059998  196.490005  195.259995  196.449997    IBM   \n",
       "2  2023-12-13  195.089996  198.000000  194.850006  197.960007    IBM   \n",
       "3  2023-11-08  182.350006  183.449997  181.589996  182.889999    IBM   \n",
       "4  2023-03-28  157.970001  158.490005  155.979996  157.649994    IBM   \n",
       "5  2023-02-10  149.460007  151.339996  149.220001  151.009995    IBM   \n",
       "6  2023-06-29  189.080002  190.070007  188.940002  189.589996    IBM   \n",
       "7  2023-05-16  171.990005  173.139999  171.800003  172.070007    IBM   \n",
       "8  2023-09-18  176.479996  179.380005  176.169998  177.970001    IBM   \n",
       "9  2023-08-03  191.570007  192.369995  190.690002  191.169998    IBM   \n",
       "\n",
       "   NEW_FEATURE    CLOSE_M1    CLOSE_M2    CLOSE_M3    CLOSE_M4    CLOSE_M5  \\\n",
       "0     0.063186  176.300003  179.360001  178.179993  177.559998  182.910004   \n",
       "1     0.061688  195.830002  193.220001  194.500000  193.619995  192.750000   \n",
       "2     0.062114  194.710007  193.179993  195.710007  194.270004  192.320007   \n",
       "3     0.062114  181.820007  179.229996  176.649994  190.539993  173.970001   \n",
       "4     0.059614  158.279999  160.250000  158.929993  157.830002  147.919998   \n",
       "5     0.058186  150.869995  151.919998  154.649994  151.729996  165.559998   \n",
       "6     0.062457  189.250000  188.059998  185.270004  186.679993  187.000000   \n",
       "7     0.061043  172.070007  172.570007  173.750000  173.559998  171.770004   \n",
       "8     0.063186  175.009995  175.740005  174.210007  176.300003  179.360001   \n",
       "9     0.063186  192.580002  195.610001  196.449997  195.830002  193.220001   \n",
       "\n",
       "   CLOSE_PREDICT  \n",
       "0     175.245604  \n",
       "1     191.268965  \n",
       "2     190.582152  \n",
       "3     177.300366  \n",
       "4     158.039372  \n",
       "5     152.601760  \n",
       "6     185.424723  \n",
       "7     170.612695  \n",
       "8     173.301594  \n",
       "9     189.642130  "
      ]
     },
     "execution_count": 15,
     "metadata": {},
     "output_type": "execute_result"
    }
   ],
   "source": [
    "model_ = native_registry.get_model(MODEL_NAME).version(MODEL_VERSION)\n",
    "model_.run(sdf_joined_test, function_name=\"predict\").limit(10).to_pandas()"
   ]
  },
  {
   "cell_type": "code",
   "execution_count": 16,
   "id": "21bffe0f-fd82-4329-a284-ee342f432261",
   "metadata": {},
   "outputs": [],
   "source": [
    "model_.run(sdf_joined_test, function_name=\"predict\").write.save_as_table(\"ML_PREDICT\", mode=\"overwrite\")"
   ]
  }
 ],
 "metadata": {
  "kernelspec": {
   "display_name": "Python 3 (ipykernel)",
   "language": "python",
   "name": "python3"
  },
  "language_info": {
   "codemirror_mode": {
    "name": "ipython",
    "version": 3
   },
   "file_extension": ".py",
   "mimetype": "text/x-python",
   "name": "python",
   "nbconvert_exporter": "python",
   "pygments_lexer": "ipython3",
   "version": "3.11.7"
  }
 },
 "nbformat": 4,
 "nbformat_minor": 5
}
