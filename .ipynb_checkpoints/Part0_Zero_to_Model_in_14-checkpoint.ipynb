{
 "cells": [
  {
   "cell_type": "markdown",
   "id": "ae5b37b0-9fd7-49e2-935e-29a6169a6e15",
   "metadata": {},
   "source": [
    "# Part 0. Zero to Model in 14 Lines of code\n",
    "\n",
    "Prerequisites: In a terminal please run:\n",
    "\n",
    "conda env create -f conda_env.yml \n",
    "\n",
    "conda activate snowpark-ml-hol"
   ]
  },
  {
   "cell_type": "markdown",
   "id": "45bab799-f766-4cc3-8265-3a4e2f059c96",
   "metadata": {},
   "source": [
    "### 0.0 Import our libraries"
   ]
  },
  {
   "cell_type": "code",
   "execution_count": 5,
   "id": "2796f46e-5a61-47e6-84b0-a9bdeb4af2aa",
   "metadata": {},
   "outputs": [],
   "source": [
    "import json\n",
    "import pandas as pd\n",
    "from snowflake.snowpark.session import Session\n",
    "import snowflake.snowpark.functions as F\n",
    "from snowflake.ml.modeling.linear_model import LinearRegression"
   ]
  },
  {
   "cell_type": "markdown",
   "id": "2b3d4eff-d2fc-4faa-9657-d0c95223c2a1",
   "metadata": {},
   "source": [
    "### 0.1 Reading Snowflake Connection Details, create a Session\n"
   ]
  },
  {
   "cell_type": "code",
   "execution_count": 2,
   "id": "a24f6ccb-143c-40cd-b8ff-5b5b752231df",
   "metadata": {},
   "outputs": [],
   "source": [
    "snowflake_connection_cfg = json.loads(open(\"/Users/mitaylor/Documents/creds/creds_sf_azure_trial.json\").read())\n",
    "session = Session.builder.configs(snowflake_connection_cfg).create()"
   ]
  },
  {
   "cell_type": "markdown",
   "id": "536caf95-150b-40d4-b60c-4a55a8c6c07a",
   "metadata": {},
   "source": [
    "### 0.2 Specify Your Database and Create a Virtual Warehouse"
   ]
  },
  {
   "cell_type": "code",
   "execution_count": 3,
   "id": "97bedf16-8ff6-4541-8cff-b6defee453d8",
   "metadata": {},
   "outputs": [
    {
     "data": {
      "text/plain": [
       "[Row(status='Warehouse ASYNC_WH successfully created.')]"
      ]
     },
     "execution_count": 3,
     "metadata": {},
     "output_type": "execute_result"
    }
   ],
   "source": [
    "session.sql(\"CREATE OR REPLACE DATABASE HOL_DEMO\").collect()\n",
    "session.sql(\"CREATE OR REPLACE WAREHOUSE ASYNC_WH WITH WAREHOUSE_SIZE='MEDIUM' WAREHOUSE_TYPE = 'SNOWPARK-OPTIMIZED'\").collect()"
   ]
  },
  {
   "cell_type": "markdown",
   "id": "01de1eea-c95b-4e34-89cc-cf146230f0f5",
   "metadata": {},
   "source": [
    "### 0.3 Load Some Data"
   ]
  },
  {
   "cell_type": "code",
   "execution_count": 6,
   "id": "856904bc-0843-4f97-b5cb-2ecb6210d2f9",
   "metadata": {},
   "outputs": [],
   "source": [
    "session.write_pandas(pd.read_csv(\"test.csv\"), table_name='FS_DATASET', auto_create_table=True, overwrite=True)\n",
    "sdf = session.table(\"FS_DATASET\")"
   ]
  },
  {
   "cell_type": "markdown",
   "id": "5e6bd7a0-8c07-4a1e-bd99-79feb745e9d1",
   "metadata": {},
   "source": [
    "### 0.4 Train Your Model"
   ]
  },
  {
   "cell_type": "code",
   "execution_count": 6,
   "id": "603873ea-5bb6-4eee-8121-07780e5b2a01",
   "metadata": {},
   "outputs": [
    {
     "data": {
      "text/plain": [
       "<snowflake.ml.modeling.linear_model.linear_regression.LinearRegression at 0x17c9e1890>"
      ]
     },
     "execution_count": 6,
     "metadata": {},
     "output_type": "execute_result"
    }
   ],
   "source": [
    "regressor = LinearRegression(input_cols=[\"OPEN\"], label_cols=[\"CLOSE\"],output_cols=[\"CLOSE_PREDICT\"])\n",
    "regressor.fit(sdf)"
   ]
  },
  {
   "cell_type": "markdown",
   "id": "f18a0dd1-6bc6-4ef4-96e2-4e5da582b247",
   "metadata": {},
   "source": [
    "### 0.5 Run Your Model"
   ]
  },
  {
   "cell_type": "code",
   "execution_count": 8,
   "id": "1604c3f6-ea91-485e-9bee-fd7f9da5f201",
   "metadata": {},
   "outputs": [
    {
     "data": {
      "text/html": [
       "<div>\n",
       "<style scoped>\n",
       "    .dataframe tbody tr th:only-of-type {\n",
       "        vertical-align: middle;\n",
       "    }\n",
       "\n",
       "    .dataframe tbody tr th {\n",
       "        vertical-align: top;\n",
       "    }\n",
       "\n",
       "    .dataframe thead th {\n",
       "        text-align: right;\n",
       "    }\n",
       "</style>\n",
       "<table border=\"1\" class=\"dataframe\">\n",
       "  <thead>\n",
       "    <tr style=\"text-align: right;\">\n",
       "      <th></th>\n",
       "      <th>LOW</th>\n",
       "      <th>DATE</th>\n",
       "      <th>HIGH</th>\n",
       "      <th>SYMBOL</th>\n",
       "      <th>OPEN</th>\n",
       "      <th>CLOSE</th>\n",
       "      <th>CLOSE_PREDICT</th>\n",
       "    </tr>\n",
       "  </thead>\n",
       "  <tbody>\n",
       "    <tr>\n",
       "      <th>0</th>\n",
       "      <td>73.797501</td>\n",
       "      <td>2020-01-02</td>\n",
       "      <td>75.150002</td>\n",
       "      <td>IBM</td>\n",
       "      <td>74.059998</td>\n",
       "      <td>75.087502</td>\n",
       "      <td>74.325285</td>\n",
       "    </tr>\n",
       "    <tr>\n",
       "      <th>1</th>\n",
       "      <td>74.125000</td>\n",
       "      <td>2020-01-03</td>\n",
       "      <td>75.144997</td>\n",
       "      <td>IBM</td>\n",
       "      <td>74.287498</td>\n",
       "      <td>74.357498</td>\n",
       "      <td>74.552333</td>\n",
       "    </tr>\n",
       "    <tr>\n",
       "      <th>2</th>\n",
       "      <td>73.187500</td>\n",
       "      <td>2020-01-06</td>\n",
       "      <td>74.989998</td>\n",
       "      <td>IBM</td>\n",
       "      <td>73.447502</td>\n",
       "      <td>74.949997</td>\n",
       "      <td>73.714009</td>\n",
       "    </tr>\n",
       "  </tbody>\n",
       "</table>\n",
       "</div>"
      ],
      "text/plain": [
       "         LOW        DATE       HIGH SYMBOL       OPEN      CLOSE  \\\n",
       "0  73.797501  2020-01-02  75.150002    IBM  74.059998  75.087502   \n",
       "1  74.125000  2020-01-03  75.144997    IBM  74.287498  74.357498   \n",
       "2  73.187500  2020-01-06  74.989998    IBM  73.447502  74.949997   \n",
       "\n",
       "   CLOSE_PREDICT  \n",
       "0      74.325285  \n",
       "1      74.552333  \n",
       "2      73.714009  "
      ]
     },
     "execution_count": 8,
     "metadata": {},
     "output_type": "execute_result"
    }
   ],
   "source": [
    "regressor.predict(sdf).limit(3).to_pandas()"
   ]
  },
  {
   "cell_type": "markdown",
   "id": "e58bbc00-23a5-4932-9810-21dc1ae1ee38",
   "metadata": {},
   "source": [
    "# Conclusion"
   ]
  },
  {
   "cell_type": "markdown",
   "id": "17f0b7d9-a6a4-4f6a-b4d2-63acb7bd72ca",
   "metadata": {},
   "source": [
    "Obviously, we're missing a bunch of things that would normally take place like train-test splits, saving results, cross validation, hyperparameter search etc., but this should get most people the headstart they need to start playing with the wider Snowpark ecosystem.  On to Lab 1.!"
   ]
  }
 ],
 "metadata": {
  "kernelspec": {
   "display_name": "Python 3 (ipykernel)",
   "language": "python",
   "name": "python3"
  },
  "language_info": {
   "codemirror_mode": {
    "name": "ipython",
    "version": 3
   },
   "file_extension": ".py",
   "mimetype": "text/x-python",
   "name": "python",
   "nbconvert_exporter": "python",
   "pygments_lexer": "ipython3",
   "version": "3.11.7"
  }
 },
 "nbformat": 4,
 "nbformat_minor": 5
}
