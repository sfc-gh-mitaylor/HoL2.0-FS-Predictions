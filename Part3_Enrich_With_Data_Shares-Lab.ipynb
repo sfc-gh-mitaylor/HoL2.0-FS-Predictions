{
 "cells": [
  {
   "cell_type": "markdown",
   "id": "6f8a6f15-e225-4b56-a88f-34e9a8478c02",
   "metadata": {},
   "source": [
    "# Part 3. Enrich Models With Snowflake Data Marketplace and Use Native Snowpark Operations to Manipulate The Data\n",
    "\n",
    "1. Get Data From the Data Marketplace\n",
    "2. Create a session for Snowpark with Snowflake\n",
    "3. Import the Data\n",
    "4. Manipulate the Data\n",
    "5. Update Your Model\n"
   ]
  },
  {
   "cell_type": "markdown",
   "id": "3d7d23df-b67d-47b8-9745-ed956aaa06c4",
   "metadata": {},
   "source": [
    "# 3.0 Imports\n",
    "\n",
    "TO DO: Just run the cell"
   ]
  },
  {
   "cell_type": "code",
   "execution_count": 1,
   "id": "8bcf030b-48f0-4720-a549-848b43111fa7",
   "metadata": {},
   "outputs": [],
   "source": [
    "import json\n",
    "import pandas as pd\n",
    "from snowflake.snowpark.session import Session\n",
    "import snowflake.snowpark.functions as F\n",
    "from snowflake.snowpark.types import PandasDataFrameType, IntegerType, StringType, FloatType, DateType\n",
    "from snowflake.ml.modeling.xgboost import XGBRegressor\n",
    "from snowflake.ml.modeling.linear_model import LinearRegression\n",
    "from snowflake.ml.registry import registry\n",
    "from snowflake.ml._internal.utils import identifier"
   ]
  },
  {
   "cell_type": "markdown",
   "id": "ead122fb-a9af-4105-bbb8-c0e16ed4c29c",
   "metadata": {},
   "source": [
    "# 3.1 Get the Data Share\n",
    "\n",
    "TO DO: Go to the hyperlink below, log in to you Snowflake account and click on the \"GET\" button.  This enables you to retrieve data from the Data Share\n"
   ]
  },
  {
   "cell_type": "markdown",
   "id": "93e15fba-8371-417e-a011-ccbc7b112ef9",
   "metadata": {},
   "source": [
    "https://app.snowflake.com/marketplace/listing/GZT1ZA3NLF/similarweb-ltd-global-stocks-25-000-tickers-digital-traffic-data-by-domain?search=Global%20Stocks"
   ]
  },
  {
   "cell_type": "markdown",
   "id": "f3b85097-c5dd-4d54-8b25-04eae0b18a1f",
   "metadata": {},
   "source": [
    "# 3.2 Reading Snowflake Connection Details, create a Session\n",
    "TO DO: Just run the cell"
   ]
  },
  {
   "cell_type": "code",
   "execution_count": 2,
   "id": "fb970c10-ecdf-423a-a0e6-430fa072bb1c",
   "metadata": {},
   "outputs": [
    {
     "data": {
      "text/plain": [
       "[Row(status='Warehouse ASYNC_WH successfully created.')]"
      ]
     },
     "execution_count": 2,
     "metadata": {},
     "output_type": "execute_result"
    }
   ],
   "source": [
    "snowflake_connection_cfg = json.loads(open(\"/Users/mitaylor/Documents/creds/creds_sf_azure.json\").read()) # <--- Update here\n",
    "session = Session.builder.configs(snowflake_connection_cfg).create()\n",
    "session.sql(\"USE DATABASE HOL_DEMO\").collect()\n",
    "session.sql(\"CREATE OR REPLACE WAREHOUSE ASYNC_WH WITH WAREHOUSE_SIZE='MEDIUM' WAREHOUSE_TYPE = 'SNOWPARK-OPTIMIZED'\").collect()"
   ]
  },
  {
   "cell_type": "markdown",
   "id": "f1c60fe8-c8a8-46c4-abca-4dee9ab9b0c9",
   "metadata": {},
   "source": [
    "# 3.3 Use SQL to import the data\n",
    "\n",
    "TO DO: Just run the cells"
   ]
  },
  {
   "cell_type": "code",
   "execution_count": null,
   "id": "4d0c26ce-41bd-4564-b882-c86079c7ecfd",
   "metadata": {},
   "outputs": [],
   "source": [
    "sdf = session.sql(\"\"\"\n",
    "SELECT ts.date,\n",
    "       ts.variable_name,\n",
    "       ts.value\n",
    "FROM FINANCIAL__ECONOMIC_ESSENTIALS.cybersyn.financial_fred_timeseries AS ts\n",
    "JOIN FINANCIAL__ECONOMIC_ESSENTIALS.cybersyn.financial_fred_attributes AS att\n",
    "    ON (att.variable = ts.variable)\n",
    "WHERE variable_group IN ('Bank of Brazil Selic Interest Rate Target',\n",
    "                         'Bank of Canada Overnight Lending Rate',\n",
    "                         'Bank of England Official Bank Rate',\n",
    "                         'Bank of Japan Policy-Rate Balance Rate',\n",
    "                         'Bank of Mexico Official Overnight Target Rate',\n",
    "                         'ECB Main Refinancing Operations Rate: Fixed Rate Tenders for Euro Area',\n",
    "                         'Federal Funds Effective Rate')\"\"\")\n",
    "sdf.limit(5).to_pandas()"
   ]
  },
  {
   "cell_type": "code",
   "execution_count": 4,
   "id": "2b1b9025-b87e-4ba3-b371-98f0338b6e00",
   "metadata": {},
   "outputs": [],
   "source": [
    "sdf.write.save_as_table(\"STREAMLIT_TEST\", mode=\"overwrite\")"
   ]
  },
  {
   "cell_type": "markdown",
   "id": "fe9cc28d-fce3-4ec2-8f85-07301dfe812d",
   "metadata": {},
   "source": [
    "# 3.4 Use Native Snowpark to Manipulate the Data\n",
    "## 3.4.1 Filtering\n",
    "\n",
    "TODO:\n",
    "\n",
    "1. Trim the dataframe columns to just the two we care about for now - \"DATE\" and \"VALUE\"\n",
    "\n",
    "Hints:\n",
    "\n",
    "To select a specific set of spark dataframe columns you would use the syntax spark_dataframe[[\"col_name1\", \"col_name2\"]], Snowpark syntax is the same\n",
    "\n"
   ]
  },
  {
   "cell_type": "code",
   "execution_count": null,
   "id": "7e388945-a9c6-4412-ad39-cd846f7921cb",
   "metadata": {},
   "outputs": [],
   "source": [
    "sdf_trimmed = # do part 1 here\n",
    "sdf_trimmed.show()"
   ]
  },
  {
   "cell_type": "markdown",
   "id": "948bc8b2-e07b-4721-8eb8-664672fb39cb",
   "metadata": {},
   "source": [
    "## 3.4.2 GroupBy\n",
    "\n",
    "TODO:\n",
    "\n",
    "1. Group by date to get the average overnight rates for each of the central banks \n",
    "\n",
    "Hints:\n",
    "\n",
    "Spark groupBy grouped_df = df.groupBy(\"the column you want to group by\").agg(mean(\"temperature\")\n",
    "\n",
    "Snowpark's \"group by\" is invoked via \"group_by\", but otherwise the same\n",
    "Snowpark's \"mean\" function is imported in the cell below \n"
   ]
  },
  {
   "cell_type": "code",
   "execution_count": 5,
   "id": "2b41310a-7110-4b21-9515-581af4b5249e",
   "metadata": {},
   "outputs": [],
   "source": [
    "from snowflake.snowpark.functions import mean as mean_"
   ]
  },
  {
   "cell_type": "code",
   "execution_count": null,
   "id": "01ba1c47-aec1-4b76-8c31-a12935ef2551",
   "metadata": {},
   "outputs": [],
   "source": [
    "sdf_grouped = # do part 1 here\n",
    "sdf_grouped.limit(5).to_pandas()"
   ]
  },
  {
   "cell_type": "code",
   "execution_count": 7,
   "id": "e70b462c-9fb4-403f-ab4d-bf86bd4214db",
   "metadata": {},
   "outputs": [],
   "source": [
    "sdf_grouped = sdf_grouped.filter((F.col(\"DATE\") >= '2022-01-01'))"
   ]
  },
  {
   "cell_type": "markdown",
   "id": "44cd0c06-ea45-4517-bfcd-91fa58951b66",
   "metadata": {},
   "source": [
    "## 3.4.3 Join it with our Prior Data\n",
    "\n",
    "TO DOs:\n",
    "\n",
    "1. read in your saved table from lab 1\n",
    "2. Filter on the symbol you trained on\n",
    "3. Update the join key for sdf_ml and sdf_grouped"
   ]
  },
  {
   "cell_type": "code",
   "execution_count": 8,
   "id": "a5206f82-709a-49bb-b0c1-0ef3217de723",
   "metadata": {},
   "outputs": [],
   "source": [
    "sdf_ml = session.table(\"\") # 1. Update here\n",
    "sdf_ml = sdf_ml.filter((F.col(\"SYMBOL\") == \"\")) # 2. Update here\n",
    "sdf_joined = sdf_ml.join(sdf_grouped, sdf_ml[\"\"] == sdf_grouped[\"\"], rsuffix=\"_right\", how=\"left\") # 3. update here\n",
    "sdf_joined = sdf_joined.rename(F.col(\"AVG(VALUE)\"), \"NEW_FEATURE\")\n",
    "sdf_joined = sdf_joined.drop(\"DATE_RIGHT\")"
   ]
  },
  {
   "cell_type": "code",
   "execution_count": null,
   "id": "59b8cc2f-ee7c-415a-8af0-ab6b40331b1f",
   "metadata": {},
   "outputs": [],
   "source": [
    "sdf_joined.show()"
   ]
  },
  {
   "cell_type": "markdown",
   "id": "e62ba868-53fc-4b5c-805c-148682e6fa56",
   "metadata": {},
   "source": [
    "# 3.5 Train and Test the Model\n",
    "\n",
    "TO DO:\n",
    "\n",
    "1. Update your fillna statement (this fills the entire dateframe, but the \"AVG(VALUE)\" is the only bit that's blank so don't worry about errors"
   ]
  },
  {
   "cell_type": "code",
   "execution_count": 10,
   "id": "05d92d51-591a-4e4a-8521-e742018af098",
   "metadata": {},
   "outputs": [
    {
     "name": "stderr",
     "output_type": "stream",
     "text": [
      "Input value type doesn't match the target column data type, this replacement was skipped. Column Name: \"DATE\", Type: DateType(), Input Value: 0.05, Type: <class 'float'>\n",
      "Input value type doesn't match the target column data type, this replacement was skipped. Column Name: \"SYMBOL\", Type: StringType(16777216), Input Value: 0.05, Type: <class 'float'>\n"
     ]
    }
   ],
   "source": [
    "sdf_joined = sdf_joined.na.fill() # 1. Update here\n",
    "sdf_joined_train, sdf_joined_test = sdf_joined.filter((F.col(\"DATE\") <= '2023-01-01')), sdf_joined.filter((F.col(\"DATE\") > '2023-01-01')) "
   ]
  },
  {
   "cell_type": "code",
   "execution_count": 11,
   "id": "00b03f0d-a038-4c5e-a1df-0763788fc501",
   "metadata": {},
   "outputs": [],
   "source": [
    "REGISTRY_DATABASE_NAME = \"MODEL_REGISTRY\"\n",
    "REGISTRY_SCHEMA_NAME = \"PUBLIC\"\n",
    "native_registry = registry.Registry(session=session, database_name=REGISTRY_DATABASE_NAME, schema_name=REGISTRY_SCHEMA_NAME)\n",
    "\n",
    "#train\n",
    "regressor = LinearRegression\n",
    "regressor = regressor(input_cols=[\"CLOSE_M1\", \"CLOSE_M2\", \"CLOSE_M3\", \"CLOSE_M4\", \"CLOSE_M5\"],\n",
    "                         label_cols=[\"CLOSE\"],\n",
    "                         output_cols=[\"CLOSE_PREDICT\"])\n",
    "regressor.fit(sdf_joined_train)\n",
    "\n",
    "MODEL_NAME = \"REGRESSION_IBM\"\n",
    "MODEL_VERSION = \"v14\"\n",
    "model = native_registry.log_model(\n",
    "    model_name=MODEL_NAME,\n",
    "    version_name=MODEL_VERSION,\n",
    "    model=regressor,\n",
    ")"
   ]
  },
  {
   "cell_type": "code",
   "execution_count": null,
   "id": "5875387b-9263-4b80-b43d-4cd471d20d6e",
   "metadata": {},
   "outputs": [],
   "source": [
    "model_ = native_registry.get_model(MODEL_NAME).version(MODEL_VERSION)\n",
    "model_.run(sdf_joined_test, function_name=\"predict\").limit(10).to_pandas()"
   ]
  },
  {
   "cell_type": "code",
   "execution_count": 13,
   "id": "21bffe0f-fd82-4329-a284-ee342f432261",
   "metadata": {},
   "outputs": [],
   "source": [
    "model_.run(sdf_joined_test, function_name=\"predict\").write.save_as_table(\"ML_PREDICT\", mode=\"overwrite\")"
   ]
  }
 ],
 "metadata": {
  "kernelspec": {
   "display_name": "Python 3 (ipykernel)",
   "language": "python",
   "name": "python3"
  },
  "language_info": {
   "codemirror_mode": {
    "name": "ipython",
    "version": 3
   },
   "file_extension": ".py",
   "mimetype": "text/x-python",
   "name": "python",
   "nbconvert_exporter": "python",
   "pygments_lexer": "ipython3",
   "version": "3.11.7"
  }
 },
 "nbformat": 4,
 "nbformat_minor": 5
}
